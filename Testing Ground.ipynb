{
 "cells": [
  {
   "cell_type": "code",
   "execution_count": 7,
   "metadata": {},
   "outputs": [],
   "source": [
    "import torchvision\n",
    "import ActiveLearning as AL\n",
    "import os\n",
    "os.environ[\"PYTORCH_CUDA_ALLOC_CONF\"] = \"expandable_segments:True\" # Needed for memory expansion\n",
    "os.environ['CUDA_LAUNCH_BLOCKING'] = '1'"
   ]
  },
  {
   "cell_type": "code",
   "execution_count": 8,
   "metadata": {},
   "outputs": [],
   "source": [
    "transform = torchvision.transforms.Compose([\n",
    "    torchvision.transforms.ToTensor(),\n",
    "    torchvision.transforms.Normalize((0.5,), (0.5,))\n",
    "])\n",
    "train_dataset = torchvision.datasets.MNIST(root='./data', train=True, download=True, transform=transform)"
   ]
  },
  {
   "cell_type": "code",
   "execution_count": null,
   "metadata": {},
   "outputs": [
    {
     "name": "stdout",
     "output_type": "stream",
     "text": [
      "Approximating delta for purity > 0.75\n",
      "Selected delta: 0.818\n",
      "Model initializing\n"
     ]
    },
    {
     "name": "stderr",
     "output_type": "stream",
     "text": [
      "c:\\Python311\\Lib\\site-packages\\threadpoolctl.py:1186: RuntimeWarning: \n",
      "Found Intel OpenMP ('libiomp') and LLVM OpenMP ('libomp') loaded at\n",
      "the same time. Both libraries are known to be incompatible and this\n",
      "can cause random crashes or deadlocks on Linux when loaded in the\n",
      "same Python program.\n",
      "Using threadpoolctl may cause crashes or deadlocks. For more\n",
      "information and possible workarounds, please see\n",
      "    https://github.com/joblib/threadpoolctl/blob/master/multiple_openmp.md\n",
      "\n",
      "  warnings.warn(msg, RuntimeWarning)\n"
     ]
    },
    {
     "data": {
      "text/plain": [
       "([array([ 9, 34]),\n",
       "  array([ 9, 34]),\n",
       "  array([ 9, 34]),\n",
       "  array([ 9, 34]),\n",
       "  array([ 9, 34]),\n",
       "  array([ 9, 34])],\n",
       " [array([10., 10.]),\n",
       "  array([10., 10.]),\n",
       "  array([10., 10.]),\n",
       "  array([10., 10.]),\n",
       "  array([10., 10.]),\n",
       "  array([10., 10.])])"
      ]
     },
     "execution_count": 9,
     "metadata": {},
     "output_type": "execute_result"
    }
   ],
   "source": [
    "ac = AL.ActiveLearning(train_dataset, 0.99, 2, 30, debug=True,quiet=True)\n",
    "ac.test_methods()"
   ]
  },
  {
   "cell_type": "code",
   "execution_count": 10,
   "metadata": {},
   "outputs": [
    {
     "name": "stdout",
     "output_type": "stream",
     "text": [
      "Files already downloaded and verified\n"
     ]
    }
   ],
   "source": [
    "train_dataset = torchvision.datasets.CIFAR10(root=\"./data_cifar\", download=True, train=True)"
   ]
  },
  {
   "cell_type": "code",
   "execution_count": null,
   "metadata": {},
   "outputs": [
    {
     "name": "stdout",
     "output_type": "stream",
     "text": [
      "Approximating delta for purity > 0.75\n",
      "Selected delta: 0.374\n",
      "Model initializing\n"
     ]
    },
    {
     "data": {
      "text/plain": [
       "([array([ 9, 34]),\n",
       "  array([ 9, 34]),\n",
       "  array([ 9, 34]),\n",
       "  array([ 9, 34]),\n",
       "  array([ 9, 34]),\n",
       "  array([ 9, 34])],\n",
       " [array([10., 10.]),\n",
       "  array([10., 10.]),\n",
       "  array([10., 10.]),\n",
       "  array([10., 10.]),\n",
       "  array([10., 10.]),\n",
       "  array([10., 10.])])"
      ]
     },
     "execution_count": 11,
     "metadata": {},
     "output_type": "execute_result"
    }
   ],
   "source": [
    "ac = AL.ActiveLearning(train_dataset, 0.99, 2, 30, debug=True,quiet=True)\n",
    "ac.test_methods()"
   ]
  },
  {
   "cell_type": "code",
   "execution_count": null,
   "metadata": {},
   "outputs": [],
   "source": []
  }
 ],
 "metadata": {
  "kernelspec": {
   "display_name": "Python 3",
   "language": "python",
   "name": "python3"
  },
  "language_info": {
   "codemirror_mode": {
    "name": "ipython",
    "version": 3
   },
   "file_extension": ".py",
   "mimetype": "text/x-python",
   "name": "python",
   "nbconvert_exporter": "python",
   "pygments_lexer": "ipython3",
   "version": "3.11.4"
  }
 },
 "nbformat": 4,
 "nbformat_minor": 2
}
